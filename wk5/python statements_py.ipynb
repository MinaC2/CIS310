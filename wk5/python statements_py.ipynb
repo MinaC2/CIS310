{
 "cells": [
  {
   "cell_type": "markdown",
   "metadata": {},
   "source": [
    "# Minahil Chaudhary\n",
    "## wk5 09/22/2022 - 09/27/2022\n",
    "### Python Statements [if,else,elif]\n",
    "#### The format of the if - statement"
   ]
  },
  {
   "cell_type": "markdown",
   "metadata": {},
   "source": [
    "- if condition 1: \n",
    "- perform action1\n",
    "- elif condition2:\n",
    "- perform action2\n",
    "- else:\n",
    "- perform action3"
   ]
  },
  {
   "cell_type": "code",
   "execution_count": 10,
   "metadata": {},
   "outputs": [
    {
     "data": {
      "text/plain": [
       "True"
      ]
     },
     "execution_count": 10,
     "metadata": {},
     "output_type": "execute_result"
    }
   ],
   "source": [
    "# is statement\n",
    "5 > 4"
   ]
  },
  {
   "cell_type": "code",
   "execution_count": 11,
   "metadata": {},
   "outputs": [
    {
     "ename": "SyntaxError",
     "evalue": "invalid syntax (<ipython-input-11-e2253a8ad09c>, line 1)",
     "output_type": "error",
     "traceback": [
      "\u001b[1;36m  File \u001b[1;32m\"<ipython-input-11-e2253a8ad09c>\"\u001b[1;36m, line \u001b[1;32m1\u001b[0m\n\u001b[1;33m    if 5 > 4\u001b[0m\n\u001b[1;37m            ^\u001b[0m\n\u001b[1;31mSyntaxError\u001b[0m\u001b[1;31m:\u001b[0m invalid syntax\n"
     ]
    }
   ],
   "source": [
    "if 5 > 4\n",
    "print ('5 is greater than 4!')"
   ]
  },
  {
   "cell_type": "code",
   "execution_count": 12,
   "metadata": {},
   "outputs": [
    {
     "name": "stdout",
     "output_type": "stream",
     "text": [
      "Hi Five!\n"
     ]
    }
   ],
   "source": [
    "value = 5\n",
    "if value == 5:\n",
    "    print (\"Hi Five!\")"
   ]
  },
  {
   "cell_type": "code",
   "execution_count": 13,
   "metadata": {},
   "outputs": [
    {
     "name": "stdout",
     "output_type": "stream",
     "text": [
      "Hi Five!\n"
     ]
    }
   ],
   "source": [
    "if value == 5:\n",
    "    print (\"Hi Five!\")\n",
    "else:\n",
    "        print(\"Lets try again\")"
   ]
  },
  {
   "cell_type": "code",
   "execution_count": 14,
   "metadata": {},
   "outputs": [],
   "source": [
    "test1 = 98\n",
    "test2 = 87\n"
   ]
  },
  {
   "cell_type": "code",
   "execution_count": 15,
   "metadata": {},
   "outputs": [
    {
     "ename": "SyntaxError",
     "evalue": "invalid syntax (<ipython-input-15-5436abaf3621>, line 6)",
     "output_type": "error",
     "traceback": [
      "\u001b[1;36m  File \u001b[1;32m\"<ipython-input-15-5436abaf3621>\"\u001b[1;36m, line \u001b[1;32m6\u001b[0m\n\u001b[1;33m    elif test1 < test2 :\u001b[0m\n\u001b[1;37m       ^\u001b[0m\n\u001b[1;31mSyntaxError\u001b[0m\u001b[1;31m:\u001b[0m invalid syntax\n"
     ]
    }
   ],
   "source": [
    "if test2 < test1 :\n",
    "    print (\"test1 {} is greater than test2 {}\".format(test1, test2))\n",
    "else:\n",
    "    print('You may redo test1')\n",
    "    print('Done!')\n",
    "elif test1 < test2 :\n",
    "    print('test2 is greater than test1')\n",
    "    print('you may rethink about redoing test1')\n",
    "    print('done')\n",
    "else: \n",
    "    print('test1 and test2 scores are equal')"
   ]
  },
  {
   "cell_type": "code",
   "execution_count": 25,
   "metadata": {},
   "outputs": [
    {
     "ename": "SyntaxError",
     "evalue": "invalid syntax (<ipython-input-25-3c44bf7bbe90>, line 9)",
     "output_type": "error",
     "traceback": [
      "\u001b[1;36m  File \u001b[1;32m\"<ipython-input-25-3c44bf7bbe90>\"\u001b[1;36m, line \u001b[1;32m9\u001b[0m\n\u001b[1;33m    else s == (\"Where are you now?\")\u001b[0m\n\u001b[1;37m         ^\u001b[0m\n\u001b[1;31mSyntaxError\u001b[0m\u001b[1;31m:\u001b[0m invalid syntax\n"
     ]
    }
   ],
   "source": [
    "print ('enter your state:', end = ' ')\n",
    "s = input()\n",
    "if s == 'Colorado':\n",
    "    print == \"Welcome to {}!.\".format(s)\n",
    "elif s == \"Florida\":\n",
    "    print(\"Welcome to {}!\".format(s))\n",
    "elif s == \"Alaska\":\n",
    "    print == \"Welcome to {}!.\".format(s)\n",
    "else s == (\"Where are you now?\")"
   ]
  },
  {
   "cell_type": "code",
   "execution_count": 26,
   "metadata": {},
   "outputs": [
    {
     "name": "stdout",
     "output_type": "stream",
     "text": [
      "test1 98 is greater than test2 87\n"
     ]
    }
   ],
   "source": [
    "if test1 > test2 : print(\"test1 {} is greater than test2 {}\".format(test1, test2))"
   ]
  },
  {
   "cell_type": "code",
   "execution_count": 27,
   "metadata": {},
   "outputs": [
    {
     "name": "stdout",
     "output_type": "stream",
     "text": [
      "3\n",
      "1\n",
      "0\n"
     ]
    }
   ],
   "source": [
    "s = 'cis310'\n",
    "if 'c' in s: print(s[-3]); print(s[-2]); print(s[-1])"
   ]
  },
  {
   "cell_type": "code",
   "execution_count": 28,
   "metadata": {},
   "outputs": [
    {
     "name": "stdout",
     "output_type": "stream",
     "text": [
      "Lets go to the park\n"
     ]
    }
   ],
   "source": [
    "# using if statement in the print statement\n",
    "raining = False\n",
    "print('Lets go to the', 'park' if not raining else 'rec center')"
   ]
  },
  {
   "cell_type": "code",
   "execution_count": 29,
   "metadata": {},
   "outputs": [
    {
     "data": {
      "text/plain": [
       "12"
      ]
     },
     "execution_count": 29,
     "metadata": {},
     "output_type": "execute_result"
    }
   ],
   "source": [
    "a, b = 12, 10\n",
    "m = a if a > b else b\n",
    "m"
   ]
  },
  {
   "cell_type": "code",
   "execution_count": 32,
   "metadata": {},
   "outputs": [
    {
     "name": "stdout",
     "output_type": "stream",
     "text": [
      "s =  minor\n"
     ]
    }
   ],
   "source": [
    "age = 12\n",
    "s = 'minor' if age < 21 else 'adult'\n",
    "print ('s = ', s)"
   ]
  },
  {
   "cell_type": "code",
   "execution_count": 34,
   "metadata": {},
   "outputs": [
    {
     "name": "stdout",
     "output_type": "stream",
     "text": [
      "conditions evaluated to true\n"
     ]
    }
   ],
   "source": [
    "# Logical operators\n",
    "s1 = 89\n",
    "s2 = 75\n",
    "s3 = 92\n",
    "if (s1 > s2) and (s3 > s2):\n",
    "    print('conditions evaluated to true')"
   ]
  },
  {
   "cell_type": "code",
   "execution_count": 35,
   "metadata": {},
   "outputs": [
    {
     "name": "stdout",
     "output_type": "stream",
     "text": [
      "Both conditions are evauluated to true\n"
     ]
    }
   ],
   "source": [
    "# Logical or operators\n",
    "if (s2> s1) or (s3 > s2):\n",
    "    print('Both conditions are evauluated to true')"
   ]
  },
  {
   "cell_type": "code",
   "execution_count": 36,
   "metadata": {},
   "outputs": [
    {
     "data": {
      "text/plain": [
       "True"
      ]
     },
     "execution_count": 36,
     "metadata": {},
     "output_type": "execute_result"
    }
   ],
   "source": [
    "s2> s1 or s3 > s2"
   ]
  },
  {
   "cell_type": "code",
   "execution_count": 37,
   "metadata": {},
   "outputs": [],
   "source": [
    "# using pass - do nothing\n",
    "if s1 > s2:\n",
    "    pass"
   ]
  },
  {
   "cell_type": "code",
   "execution_count": 39,
   "metadata": {},
   "outputs": [],
   "source": [
    "# easy ways to use built in functions, instead of if statements\n",
    "names =  {'Fred': 'Hello Fred', 'Rama': 'Hello Rama', 'Joe': 'Hello Joe', 'Alice': 'Hello Alice'}"
   ]
  },
  {
   "cell_type": "code",
   "execution_count": 40,
   "metadata": {},
   "outputs": [
    {
     "data": {
      "text/plain": [
       "{'Fred': 'Hello Fred',\n",
       " 'Rama': 'Hello Rama',\n",
       " 'Joe': 'Hello Joe',\n",
       " 'Alice': 'Hello Alice'}"
      ]
     },
     "execution_count": 40,
     "metadata": {},
     "output_type": "execute_result"
    }
   ],
   "source": [
    "names"
   ]
  },
  {
   "cell_type": "code",
   "execution_count": 41,
   "metadata": {},
   "outputs": [
    {
     "data": {
      "text/plain": [
       "'Hello Joe'"
      ]
     },
     "execution_count": 41,
     "metadata": {},
     "output_type": "execute_result"
    }
   ],
   "source": [
    "names.get('Joe', 'I dont know who you are')"
   ]
  },
  {
   "cell_type": "code",
   "execution_count": null,
   "metadata": {},
   "outputs": [],
   "source": []
  }
 ],
 "metadata": {
  "kernelspec": {
   "display_name": "Python 3.7 - default",
   "language": "python",
   "name": "py37_default"
  },
  "language_info": {
   "codemirror_mode": {
    "name": "ipython",
    "version": 3
   },
   "file_extension": ".py",
   "mimetype": "text/x-python",
   "name": "python",
   "nbconvert_exporter": "python",
   "pygments_lexer": "ipython3",
   "version": "3.7.7"
  }
 },
 "nbformat": 4,
 "nbformat_minor": 4
}
