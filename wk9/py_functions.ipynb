{
 "cells": [
  {
   "cell_type": "markdown",
   "metadata": {},
   "source": [
    "# Minahil Chaudhary\n",
    "## Week 8 10/11/2022 - 10/18/2022\n",
    "### Python functions - User or custom"
   ]
  },
  {
   "cell_type": "markdown",
   "metadata": {},
   "source": [
    "*** Python function format***\n",
    "<<code>def function_name(args):\n",
    "    '''\n",
    "    docstring {document String} - Thios is where you describe the function\n",
    "    '''\n",
    "    #statement (s) <code/>"
   ]
  },
  {
   "cell_type": "code",
   "execution_count": 3,
   "metadata": {},
   "outputs": [],
   "source": [
    "def fun_welcome():\n",
    "    '''\n",
    "    This function welcomes students in CIS310, without the student name\n",
    "    '''\n",
    "    print('Welcome to CIS310!')\n",
    "    "
   ]
  },
  {
   "cell_type": "code",
   "execution_count": 4,
   "metadata": {},
   "outputs": [
    {
     "name": "stdout",
     "output_type": "stream",
     "text": [
      "Welcome to CIS310!\n"
     ]
    }
   ],
   "source": [
    "fun_welcome()"
   ]
  },
  {
   "cell_type": "code",
   "execution_count": 8,
   "metadata": {},
   "outputs": [],
   "source": [
    "def fun_greet(name):\n",
    "    '''\n",
    "    This function greets a person name passed as parameter\n",
    "    '''\n",
    "    print(f'Welcome to CIS310, {name}')"
   ]
  },
  {
   "cell_type": "code",
   "execution_count": 9,
   "metadata": {},
   "outputs": [
    {
     "name": "stdout",
     "output_type": "stream",
     "text": [
      "Welcome to CIS310, Minahil\n"
     ]
    }
   ],
   "source": [
    "fun_greet('Minahil')"
   ]
  },
  {
   "cell_type": "code",
   "execution_count": 10,
   "metadata": {},
   "outputs": [
    {
     "name": "stdout",
     "output_type": "stream",
     "text": [
      "\n",
      "    This function greets a person name passed as parameter\n",
      "    \n"
     ]
    }
   ],
   "source": [
    "print(fun_greet.__doc__)"
   ]
  },
  {
   "cell_type": "code",
   "execution_count": 11,
   "metadata": {},
   "outputs": [],
   "source": [
    "def sum_two_numbers(n1, n2):\n",
    "    print(n1+n2)"
   ]
  },
  {
   "cell_type": "code",
   "execution_count": 13,
   "metadata": {},
   "outputs": [
    {
     "name": "stdout",
     "output_type": "stream",
     "text": [
      "15\n"
     ]
    }
   ],
   "source": [
    "sum_two_numbers(5,10)"
   ]
  },
  {
   "cell_type": "code",
   "execution_count": 14,
   "metadata": {},
   "outputs": [
    {
     "name": "stdout",
     "output_type": "stream",
     "text": [
      "word1word2\n"
     ]
    }
   ],
   "source": [
    "sum_two_numbers('word1', 'word2')"
   ]
  },
  {
   "cell_type": "code",
   "execution_count": 15,
   "metadata": {},
   "outputs": [
    {
     "name": "stdout",
     "output_type": "stream",
     "text": [
      "4.7\n"
     ]
    }
   ],
   "source": [
    "sum_two_numbers(2.2, 2.5)"
   ]
  },
  {
   "cell_type": "code",
   "execution_count": 16,
   "metadata": {},
   "outputs": [],
   "source": [
    "#Using return\n",
    "def sum_two_numbers_with_return(n1, n2):\n",
    "    return(n1+n2)"
   ]
  },
  {
   "cell_type": "code",
   "execution_count": 20,
   "metadata": {},
   "outputs": [],
   "source": [
    "def sum_with_return(n1, n2):\n",
    "    return (n1+n2)"
   ]
  },
  {
   "cell_type": "code",
   "execution_count": 21,
   "metadata": {},
   "outputs": [
    {
     "name": "stdout",
     "output_type": "stream",
     "text": [
      "The sum of x 5 and 10 is 15\n"
     ]
    }
   ],
   "source": [
    "x , y = 5,10\n",
    "s = sum_with_return(x, y)\n",
    "print (f'The sum of x {x} and {y} is {s}')"
   ]
  },
  {
   "cell_type": "code",
   "execution_count": 24,
   "metadata": {},
   "outputs": [],
   "source": [
    "def avg_nums(v1, v2, v3):\n",
    "    avg = (v1 + v2 + v3) / 3\n",
    "    return avg"
   ]
  },
  {
   "cell_type": "code",
   "execution_count": 27,
   "metadata": {},
   "outputs": [
    {
     "name": "stdout",
     "output_type": "stream",
     "text": [
      "The average of 15, 10, 20 is 15.0\n"
     ]
    }
   ],
   "source": [
    "average = avg_nums(15, 10, 20)\n",
    "print(f'The average of 15, 10, 20 is {avg_nums(15, 10, 20)}')"
   ]
  },
  {
   "cell_type": "code",
   "execution_count": 36,
   "metadata": {},
   "outputs": [],
   "source": [
    "#Find if a number is a prime number \n",
    "def is_prime(num):\n",
    "    '''\n",
    "    This function checks if a number is prime, it returns str\n",
    "    '''\n",
    "    for n in range (2, num):\n",
    "        if num % n == 0:\n",
    "            return str (num) + ' Is not Prime'\n",
    "        \n",
    "    return str (num) + ' Is Prime'"
   ]
  },
  {
   "cell_type": "code",
   "execution_count": 37,
   "metadata": {},
   "outputs": [
    {
     "data": {
      "text/plain": [
       "'16 Is not Prime'"
      ]
     },
     "execution_count": 37,
     "metadata": {},
     "output_type": "execute_result"
    }
   ],
   "source": [
    "is_prime(16)"
   ]
  },
  {
   "cell_type": "code",
   "execution_count": 38,
   "metadata": {},
   "outputs": [
    {
     "data": {
      "text/plain": [
       "'13 Is Prime'"
      ]
     },
     "execution_count": 38,
     "metadata": {},
     "output_type": "execute_result"
    }
   ],
   "source": [
    "is_prime(13)"
   ]
  },
  {
   "cell_type": "code",
   "execution_count": 39,
   "metadata": {},
   "outputs": [
    {
     "data": {
      "text/plain": [
       "'5 Is Prime'"
      ]
     },
     "execution_count": 39,
     "metadata": {},
     "output_type": "execute_result"
    }
   ],
   "source": [
    "is_prime(5)"
   ]
  },
  {
   "cell_type": "code",
   "execution_count": 40,
   "metadata": {},
   "outputs": [
    {
     "data": {
      "text/plain": [
       "'6 Is not Prime'"
      ]
     },
     "execution_count": 40,
     "metadata": {},
     "output_type": "execute_result"
    }
   ],
   "source": [
    "is_prime(6)"
   ]
  },
  {
   "cell_type": "code",
   "execution_count": 43,
   "metadata": {},
   "outputs": [],
   "source": [
    "#Check if two word string starets with the same letter\n",
    "s = 'Java Program'\n",
    "lst = s.split()"
   ]
  },
  {
   "cell_type": "code",
   "execution_count": 44,
   "metadata": {},
   "outputs": [
    {
     "data": {
      "text/plain": [
       "'J'"
      ]
     },
     "execution_count": 44,
     "metadata": {},
     "output_type": "execute_result"
    }
   ],
   "source": [
    "lst[0][0]"
   ]
  },
  {
   "cell_type": "code",
   "execution_count": 45,
   "metadata": {},
   "outputs": [
    {
     "data": {
      "text/plain": [
       "'P'"
      ]
     },
     "execution_count": 45,
     "metadata": {},
     "output_type": "execute_result"
    }
   ],
   "source": [
    "lst[1][0]"
   ]
  },
  {
   "cell_type": "code",
   "execution_count": 46,
   "metadata": {},
   "outputs": [
    {
     "data": {
      "text/plain": [
       "False"
      ]
     },
     "execution_count": 46,
     "metadata": {},
     "output_type": "execute_result"
    }
   ],
   "source": [
    "lst[0][0] == lst [1][0]"
   ]
  },
  {
   "cell_type": "code",
   "execution_count": 59,
   "metadata": {},
   "outputs": [],
   "source": [
    "def two_words_letters(txt):\n",
    "    wlst = txt.split()\n",
    "    return wlst[0][0] == wlst[1][0]"
   ]
  },
  {
   "cell_type": "code",
   "execution_count": 60,
   "metadata": {},
   "outputs": [
    {
     "data": {
      "text/plain": [
       "True"
      ]
     },
     "execution_count": 60,
     "metadata": {},
     "output_type": "execute_result"
    }
   ],
   "source": [
    "two_words_letters('Python Program')"
   ]
  },
  {
   "cell_type": "code",
   "execution_count": 61,
   "metadata": {},
   "outputs": [
    {
     "data": {
      "text/plain": [
       "False"
      ]
     },
     "execution_count": 61,
     "metadata": {},
     "output_type": "execute_result"
    }
   ],
   "source": [
    "two_words_letters('Java Program')"
   ]
  },
  {
   "cell_type": "code",
   "execution_count": 62,
   "metadata": {},
   "outputs": [],
   "source": [
    "#Reverse a statement\n",
    "str1 = 'I am Home'\n",
    "def rv_str(txt):\n",
    "    lst = txt.split()"
   ]
  },
  {
   "cell_type": "code",
   "execution_count": 63,
   "metadata": {},
   "outputs": [
    {
     "data": {
      "text/plain": [
       "'I am Home'"
      ]
     },
     "execution_count": 63,
     "metadata": {},
     "output_type": "execute_result"
    }
   ],
   "source": [
    "str1"
   ]
  },
  {
   "cell_type": "code",
   "execution_count": 65,
   "metadata": {},
   "outputs": [],
   "source": [
    "def rv_str(txt):\n",
    "    wlst = txt.split()\n",
    "    wlst.reverse()\n",
    "    return ' '.join(wlst)"
   ]
  },
  {
   "cell_type": "code",
   "execution_count": 66,
   "metadata": {},
   "outputs": [
    {
     "data": {
      "text/plain": [
       "'home am I'"
      ]
     },
     "execution_count": 66,
     "metadata": {},
     "output_type": "execute_result"
    }
   ],
   "source": [
    "rv_str('I am home')"
   ]
  },
  {
   "cell_type": "code",
   "execution_count": 67,
   "metadata": {},
   "outputs": [
    {
     "data": {
      "text/plain": [
       "5"
      ]
     },
     "execution_count": 67,
     "metadata": {},
     "output_type": "execute_result"
    }
   ],
   "source": [
    "#Check is a list has number 5 next tto number 5 somwehere in the list \n",
    "#[3,4,5,10] -> True\n",
    "#[3,4,5,6,5,8] -> false\n",
    "\n",
    "\n",
    "\n",
    "lst = [3,4,5,5,10]\n",
    "len(lst)"
   ]
  },
  {
   "cell_type": "code",
   "execution_count": 68,
   "metadata": {},
   "outputs": [
    {
     "name": "stdout",
     "output_type": "stream",
     "text": [
      "0\n",
      "1\n",
      "2\n",
      "3\n",
      "4\n"
     ]
    }
   ],
   "source": [
    "for i in range (len(lst)):\n",
    "    print(i)"
   ]
  },
  {
   "cell_type": "code",
   "execution_count": 76,
   "metadata": {},
   "outputs": [],
   "source": [
    "def has_55(lst):\n",
    "    for i in range (len(lst)-1):\n",
    "        #if lst[i] == 5 and lst [i + 1] == 5:\n",
    "        #slicing gto make it simpler\n",
    "        if lst [i:i+2] == [5,5]:\n",
    "            return True\n",
    "        \n",
    "        \n",
    "        \n",
    "    return False"
   ]
  },
  {
   "cell_type": "code",
   "execution_count": 77,
   "metadata": {},
   "outputs": [
    {
     "data": {
      "text/plain": [
       "False"
      ]
     },
     "execution_count": 77,
     "metadata": {},
     "output_type": "execute_result"
    }
   ],
   "source": [
    "has_55([3,4,5,6,5,8])"
   ]
  },
  {
   "cell_type": "code",
   "execution_count": 78,
   "metadata": {},
   "outputs": [],
   "source": [
    "#check code 001 in a list\n",
    "# [1,4,5,0,0,1] -> True\n",
    "#[1,0,2,5,0,6,8] -> True\n",
    "#[1,5,6,0,6,7,8,0] -> False\n",
    "\n",
    "def check_code(lst):\n",
    "    code = [0,0,1,'s']\n",
    "    for n in lst:\n",
    "        if n == code[0]:\n",
    "            code.pop(0) #Remove the number at index 0\n",
    "            \n",
    "    return len(code) == 1"
   ]
  },
  {
   "cell_type": "code",
   "execution_count": 81,
   "metadata": {},
   "outputs": [
    {
     "data": {
      "text/plain": [
       "True"
      ]
     },
     "execution_count": 81,
     "metadata": {},
     "output_type": "execute_result"
    }
   ],
   "source": [
    "check_code([1,4,5,0,0,1,8])"
   ]
  },
  {
   "cell_type": "code",
   "execution_count": 82,
   "metadata": {},
   "outputs": [
    {
     "data": {
      "text/plain": [
       "True"
      ]
     },
     "execution_count": 82,
     "metadata": {},
     "output_type": "execute_result"
    }
   ],
   "source": [
    "check_code([1,0,2,5,0,6,1,8])"
   ]
  },
  {
   "cell_type": "code",
   "execution_count": 83,
   "metadata": {},
   "outputs": [
    {
     "data": {
      "text/plain": [
       "False"
      ]
     },
     "execution_count": 83,
     "metadata": {},
     "output_type": "execute_result"
    }
   ],
   "source": [
    "check_code([1,5,6,8,7,8,0])"
   ]
  },
  {
   "cell_type": "code",
   "execution_count": 1,
   "metadata": {},
   "outputs": [],
   "source": [
    "#Number of arguments *\n",
    "# If the number of arguments is unknown, add a * before the parameter name\n",
    "def full_name(fname, lname):\n",
    "    print(fname + ' ' + lname)\n"
   ]
  },
  {
   "cell_type": "code",
   "execution_count": 2,
   "metadata": {},
   "outputs": [
    {
     "name": "stdout",
     "output_type": "stream",
     "text": [
      "Minahil Chaudhary\n"
     ]
    }
   ],
   "source": [
    "full_name('Minahil', 'Chaudhary')"
   ]
  },
  {
   "cell_type": "code",
   "execution_count": 17,
   "metadata": {},
   "outputs": [],
   "source": [
    "def full_name (*name):\n",
    "    if (len(name) == 1):\n",
    "        print (name [0])\n",
    "    else:\n",
    "        print(name[0] + ' ' + name [1])"
   ]
  },
  {
   "cell_type": "code",
   "execution_count": 18,
   "metadata": {},
   "outputs": [
    {
     "name": "stdout",
     "output_type": "stream",
     "text": [
      "Minahil\n"
     ]
    }
   ],
   "source": [
    "full_name('Minahil')"
   ]
  },
  {
   "cell_type": "code",
   "execution_count": 19,
   "metadata": {},
   "outputs": [
    {
     "name": "stdout",
     "output_type": "stream",
     "text": [
      "Minahil Chaudhary\n"
     ]
    }
   ],
   "source": [
    "full_name('Minahil', 'Chaudhary')"
   ]
  },
  {
   "cell_type": "code",
   "execution_count": 20,
   "metadata": {},
   "outputs": [
    {
     "name": "stdout",
     "output_type": "stream",
     "text": [
      "I am from Italy\n",
      "I am from Pakistan\n",
      "I am from USA\n",
      "I am from Brazil\n"
     ]
    }
   ],
   "source": [
    "  #Default parameter Value\n",
    "def my_country(name = 'USA'):\n",
    "    print(f\"I am from {name}\")\n",
    "        \n",
    "        \n",
    "        \n",
    "        \n",
    "my_country(\"Italy\")\n",
    "my_country(\"Pakistan\")\n",
    "my_country()\n",
    "my_country(\"Brazil\")"
   ]
  },
  {
   "cell_type": "code",
   "execution_count": 21,
   "metadata": {},
   "outputs": [],
   "source": [
    "def my_kids(child1, child2, child3):\n",
    "    print(f\"my first child is {child1}, my second child {child2}, my third child {child3}\")"
   ]
  },
  {
   "cell_type": "code",
   "execution_count": 22,
   "metadata": {},
   "outputs": [
    {
     "name": "stdout",
     "output_type": "stream",
     "text": [
      "my first child is emily, my second child Jon, my third child Alice\n"
     ]
    }
   ],
   "source": [
    "my_kids(\"emily\", \"Jon\", \"Alice\")"
   ]
  },
  {
   "cell_type": "code",
   "execution_count": 23,
   "metadata": {},
   "outputs": [
    {
     "name": "stdout",
     "output_type": "stream",
     "text": [
      "my first child is Jon, my second child Emily, my third child Alice\n"
     ]
    }
   ],
   "source": [
    "my_kids(\"Jon\", \"Emily\", \"Alice\")"
   ]
  },
  {
   "cell_type": "code",
   "execution_count": 24,
   "metadata": {},
   "outputs": [
    {
     "name": "stdout",
     "output_type": "stream",
     "text": [
      "my first child is Jon, my second child Emily, my third child Alice\n"
     ]
    }
   ],
   "source": [
    "my_kids(child1 = \"Jon\", child2 = \"Emily\", child3 = \"Alice\")"
   ]
  },
  {
   "cell_type": "code",
   "execution_count": 33,
   "metadata": {},
   "outputs": [
    {
     "name": "stdout",
     "output_type": "stream",
     "text": [
      "My full name Refsnes, Tobias\n"
     ]
    }
   ],
   "source": [
    "#Arbritary Keyword Arguments **kwoprds\n",
    "def my_name(**name):\n",
    "    if 'lname' in name and 'fname' in name:\n",
    "        print(f\"My full name {name['lname']}, {name['fname']}\")\n",
    "    elif ('lname' in name):\n",
    "        print(f\"My last name {name['lname']}\")\n",
    "    elif ('fname' in name):\n",
    "        print (f\"My first name {name['fname']}\")\n",
    "    else:\n",
    "        print('No parameter values?')\n",
    "my_name(fname = \"Tobias\", lname = \"Refsnes\")"
   ]
  },
  {
   "cell_type": "code",
   "execution_count": 34,
   "metadata": {},
   "outputs": [
    {
     "name": "stdout",
     "output_type": "stream",
     "text": [
      "My first name Tobias\n"
     ]
    }
   ],
   "source": [
    "my_name(fname = \"Tobias\")"
   ]
  },
  {
   "cell_type": "code",
   "execution_count": 35,
   "metadata": {},
   "outputs": [
    {
     "name": "stdout",
     "output_type": "stream",
     "text": [
      "No parameter values?\n"
     ]
    }
   ],
   "source": [
    "my_name()"
   ]
  },
  {
   "cell_type": "code",
   "execution_count": 36,
   "metadata": {},
   "outputs": [
    {
     "name": "stdout",
     "output_type": "stream",
     "text": [
      "My last name Refsnes\n"
     ]
    }
   ],
   "source": [
    "my_name(lname = \"Refsnes\")"
   ]
  },
  {
   "cell_type": "code",
   "execution_count": 40,
   "metadata": {},
   "outputs": [],
   "source": [
    "def my_fruit(**food):\n",
    "    if 'fruit' in food:\n",
    "        print(\"My favorite fruit is {}\".format(food['fruit']))\n",
    "    else:\n",
    "        print(\"You dont have fruits\")"
   ]
  },
  {
   "cell_type": "code",
   "execution_count": 41,
   "metadata": {},
   "outputs": [
    {
     "name": "stdout",
     "output_type": "stream",
     "text": [
      "My favorite fruit is Apple\n"
     ]
    }
   ],
   "source": [
    "my_fruit(fruit = 'Apple')"
   ]
  },
  {
   "cell_type": "code",
   "execution_count": 46,
   "metadata": {},
   "outputs": [],
   "source": [
    "def my_dinner(*food, **fruits):\n",
    "    if 'fruit' and 'juice' in fruits:\n",
    "        print(f\"I like to have {' and '.join(food)}, and my favorite fruit is {fruits['fruit']}\")\n",
    "        print(f\"I also like to have some {fruits['juice']} juice after dinner\")\n",
    "    else:\n",
    "        print(\"Thank you, I do not want anything, I am good\")\n",
    "        "
   ]
  },
  {
   "cell_type": "code",
   "execution_count": 47,
   "metadata": {},
   "outputs": [
    {
     "name": "stdout",
     "output_type": "stream",
     "text": [
      "I like to have eggs and milk, and my favorite fruit is Cherry\n",
      "I also like to have some cherry juice after dinner\n"
     ]
    }
   ],
   "source": [
    "my_dinner('eggs', 'milk', fruit = 'Cherry', juice = 'cherry')"
   ]
  },
  {
   "cell_type": "code",
   "execution_count": 48,
   "metadata": {},
   "outputs": [
    {
     "name": "stdout",
     "output_type": "stream",
     "text": [
      "Thank you, I do not want anything, I am good\n"
     ]
    }
   ],
   "source": [
    "my_dinner('eggs', 'milk', fruit = 'Cherry')"
   ]
  },
  {
   "cell_type": "code",
   "execution_count": 49,
   "metadata": {},
   "outputs": [
    {
     "name": "stdout",
     "output_type": "stream",
     "text": [
      "[1.77, 24.24, 58.52, 5.24, 7.46]\n"
     ]
    }
   ],
   "source": [
    "#Using function in list comprehensions\n",
    "txns = [1.09, 23.56, 57.84, 4.56, 6.78]\n",
    "TAX_RATE = .68\n",
    "final_price = [round(v * 1 +TAX_RATE, 2) for v in txns]\n",
    "print(final_price)"
   ]
  },
  {
   "cell_type": "code",
   "execution_count": 50,
   "metadata": {},
   "outputs": [],
   "source": [
    "def get_price_with_tax(price):\n",
    "    return round (price * (1 + TAX_RATE), 2)"
   ]
  },
  {
   "cell_type": "code",
   "execution_count": 51,
   "metadata": {},
   "outputs": [
    {
     "data": {
      "text/plain": [
       "[1.83, 39.58, 97.17, 7.66, 11.39]"
      ]
     },
     "execution_count": 51,
     "metadata": {},
     "output_type": "execute_result"
    }
   ],
   "source": [
    "final_price = [get_price_with_tax(v) for v in txns]\n",
    "final_price"
   ]
  },
  {
   "cell_type": "code",
   "execution_count": 52,
   "metadata": {},
   "outputs": [
    {
     "data": {
      "text/plain": [
       "<map at 0x2334ec0ba08>"
      ]
     },
     "execution_count": 52,
     "metadata": {},
     "output_type": "execute_result"
    }
   ],
   "source": [
    "#Python Map Function\n",
    "'''\n",
    "Aply a transformation to each item in an iterable\n",
    "Transform them into a new iterable, without using an explicit loop\n",
    "Format\n",
    "\n",
    "'''\n",
    "\n",
    "\n",
    "final_price = map(get_price_with_tax, txns)\n",
    "final_price"
   ]
  },
  {
   "cell_type": "code",
   "execution_count": 53,
   "metadata": {},
   "outputs": [
    {
     "data": {
      "text/plain": [
       "[1.83, 39.58, 97.17, 7.66, 11.39]"
      ]
     },
     "execution_count": 53,
     "metadata": {},
     "output_type": "execute_result"
    }
   ],
   "source": [
    "list(final_price)"
   ]
  },
  {
   "cell_type": "code",
   "execution_count": null,
   "metadata": {},
   "outputs": [],
   "source": []
  }
 ],
 "metadata": {
  "kernelspec": {
   "display_name": "Python 3.7 - default",
   "language": "python",
   "name": "py37_default"
  },
  "language_info": {
   "codemirror_mode": {
    "name": "ipython",
    "version": 3
   },
   "file_extension": ".py",
   "mimetype": "text/x-python",
   "name": "python",
   "nbconvert_exporter": "python",
   "pygments_lexer": "ipython3",
   "version": "3.7.7"
  }
 },
 "nbformat": 4,
 "nbformat_minor": 4
}
